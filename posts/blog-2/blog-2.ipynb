{
 "cells": [
  {
   "cell_type": "raw",
   "metadata": {
    "vscode": {
     "languageId": "raw"
    }
   },
   "source": [
    "---\n",
    "title: Blog Two - Design and Impact of Automated Decision Systems\n",
    "author: Chloe Katz\n",
    "date: '2025-02-27'\n",
    "image: \"Mr._Monopoly.png\"\n",
    "description: \"Bank Loaning\"\n",
    "format: html\n",
    "---"
   ]
  },
  {
   "cell_type": "markdown",
   "metadata": {},
   "source": [
    "## Abstract"
   ]
  },
  {
   "cell_type": "markdown",
   "metadata": {},
   "source": [
    "This blog post analyzes fairness in loan approval processes. I first make a model given the training data and use the coefficents to create a score. I compare that score to a threshold to deterimine if the bank should or should not make the loan based on the training attributes. I find an average bank profit of 1820 after testing out different training features. Despite this being the optimal value, we find that the bank is likely to discriminate against people requesting medical loans, and people with lower incomes. Although these were not explicit features in the model, the model still learned that loaning to the above groups generated more risk that the bank wasn't willing to take on."
   ]
  },
  {
   "cell_type": "markdown",
   "metadata": {},
   "source": [
    "## Setup"
   ]
  },
  {
   "cell_type": "code",
   "execution_count": 1,
   "metadata": {},
   "outputs": [
    {
     "data": {
      "text/html": [
       "<div>\n",
       "<style scoped>\n",
       "    .dataframe tbody tr th:only-of-type {\n",
       "        vertical-align: middle;\n",
       "    }\n",
       "\n",
       "    .dataframe tbody tr th {\n",
       "        vertical-align: top;\n",
       "    }\n",
       "\n",
       "    .dataframe thead th {\n",
       "        text-align: right;\n",
       "    }\n",
       "</style>\n",
       "<table border=\"1\" class=\"dataframe\">\n",
       "  <thead>\n",
       "    <tr style=\"text-align: right;\">\n",
       "      <th></th>\n",
       "      <th>person_age</th>\n",
       "      <th>person_income</th>\n",
       "      <th>person_home_ownership</th>\n",
       "      <th>person_emp_length</th>\n",
       "      <th>loan_intent</th>\n",
       "      <th>loan_grade</th>\n",
       "      <th>loan_amnt</th>\n",
       "      <th>loan_int_rate</th>\n",
       "      <th>loan_status</th>\n",
       "      <th>loan_percent_income</th>\n",
       "      <th>cb_person_default_on_file</th>\n",
       "      <th>cb_person_cred_hist_length</th>\n",
       "    </tr>\n",
       "  </thead>\n",
       "  <tbody>\n",
       "    <tr>\n",
       "      <th>0</th>\n",
       "      <td>25</td>\n",
       "      <td>43200</td>\n",
       "      <td>RENT</td>\n",
       "      <td>NaN</td>\n",
       "      <td>VENTURE</td>\n",
       "      <td>B</td>\n",
       "      <td>1200</td>\n",
       "      <td>0.0991</td>\n",
       "      <td>0</td>\n",
       "      <td>0.03</td>\n",
       "      <td>N</td>\n",
       "      <td>4</td>\n",
       "    </tr>\n",
       "    <tr>\n",
       "      <th>1</th>\n",
       "      <td>27</td>\n",
       "      <td>98000</td>\n",
       "      <td>RENT</td>\n",
       "      <td>3.0</td>\n",
       "      <td>EDUCATION</td>\n",
       "      <td>C</td>\n",
       "      <td>11750</td>\n",
       "      <td>0.1347</td>\n",
       "      <td>0</td>\n",
       "      <td>0.12</td>\n",
       "      <td>Y</td>\n",
       "      <td>6</td>\n",
       "    </tr>\n",
       "    <tr>\n",
       "      <th>2</th>\n",
       "      <td>22</td>\n",
       "      <td>36996</td>\n",
       "      <td>RENT</td>\n",
       "      <td>5.0</td>\n",
       "      <td>EDUCATION</td>\n",
       "      <td>A</td>\n",
       "      <td>10000</td>\n",
       "      <td>0.0751</td>\n",
       "      <td>0</td>\n",
       "      <td>0.27</td>\n",
       "      <td>N</td>\n",
       "      <td>4</td>\n",
       "    </tr>\n",
       "    <tr>\n",
       "      <th>3</th>\n",
       "      <td>24</td>\n",
       "      <td>26000</td>\n",
       "      <td>RENT</td>\n",
       "      <td>2.0</td>\n",
       "      <td>MEDICAL</td>\n",
       "      <td>C</td>\n",
       "      <td>1325</td>\n",
       "      <td>0.1287</td>\n",
       "      <td>1</td>\n",
       "      <td>0.05</td>\n",
       "      <td>N</td>\n",
       "      <td>4</td>\n",
       "    </tr>\n",
       "    <tr>\n",
       "      <th>4</th>\n",
       "      <td>29</td>\n",
       "      <td>53004</td>\n",
       "      <td>MORTGAGE</td>\n",
       "      <td>2.0</td>\n",
       "      <td>HOMEIMPROVEMENT</td>\n",
       "      <td>A</td>\n",
       "      <td>15000</td>\n",
       "      <td>0.0963</td>\n",
       "      <td>0</td>\n",
       "      <td>0.28</td>\n",
       "      <td>N</td>\n",
       "      <td>10</td>\n",
       "    </tr>\n",
       "  </tbody>\n",
       "</table>\n",
       "</div>"
      ],
      "text/plain": [
       "   person_age  person_income person_home_ownership  person_emp_length  \\\n",
       "0          25          43200                  RENT                NaN   \n",
       "1          27          98000                  RENT                3.0   \n",
       "2          22          36996                  RENT                5.0   \n",
       "3          24          26000                  RENT                2.0   \n",
       "4          29          53004              MORTGAGE                2.0   \n",
       "\n",
       "       loan_intent loan_grade  loan_amnt  loan_int_rate  loan_status  \\\n",
       "0          VENTURE          B       1200         0.0991            0   \n",
       "1        EDUCATION          C      11750         0.1347            0   \n",
       "2        EDUCATION          A      10000         0.0751            0   \n",
       "3          MEDICAL          C       1325         0.1287            1   \n",
       "4  HOMEIMPROVEMENT          A      15000         0.0963            0   \n",
       "\n",
       "   loan_percent_income cb_person_default_on_file  cb_person_cred_hist_length  \n",
       "0                 0.03                         N                           4  \n",
       "1                 0.12                         Y                           6  \n",
       "2                 0.27                         N                           4  \n",
       "3                 0.05                         N                           4  \n",
       "4                 0.28                         N                          10  "
      ]
     },
     "execution_count": 1,
     "metadata": {},
     "output_type": "execute_result"
    }
   ],
   "source": [
    "import pandas as pd\n",
    "url = \"https://raw.githubusercontent.com/PhilChodrow/ml-notes/main/data/credit-risk/train.csv\"\n",
    "df_train = pd.read_csv(url)\n",
    "df_train[\"loan_int_rate\"]= (df_train[\"loan_int_rate\"])/100 #making the loan rate into a percentage\n",
    "df_train.head()"
   ]
  },
  {
   "cell_type": "markdown",
   "metadata": {},
   "source": [
    "In this chunk, I set up the data, reset the interest rate so it's a percentage out of 100 and view it."
   ]
  },
  {
   "cell_type": "markdown",
   "metadata": {},
   "source": [
    "## Explore"
   ]
  },
  {
   "cell_type": "code",
   "execution_count": 2,
   "metadata": {},
   "outputs": [],
   "source": [
    "# data display setup\n",
    "import numpy as np\n",
    "import pandas as pd\n",
    "import matplotlib.pyplot as plt\n",
    "import seaborn as sns\n",
    "sns.set_theme(style=\"darkgrid\")"
   ]
  },
  {
   "cell_type": "code",
   "execution_count": 3,
   "metadata": {},
   "outputs": [
    {
     "data": {
      "image/png": "[encoded data removed]",
      "text/plain": [
       "<Figure size 720.375x500 with 1 Axes>"
      ]
     },
     "metadata": {},
     "output_type": "display_data"
    }
   ],
   "source": [
    "\n",
    "data = df_train\n",
    "\n",
    "#Creating plot\n",
    "sns.displot(data=data, x=\"person_age\", hue=\"loan_intent\", multiple=\"stack\")\n",
    "\n",
    "# Adjusting x-axis limits\n",
    "plt.xlim(20, 60)\n",
    "\n",
    "plt.show()"
   ]
  },
  {
   "cell_type": "markdown",
   "metadata": {},
   "source": [
    "This plot shows the relationship between a person's age and their loan intent. We can see that the most loans are requested by people in their mid-20s, and are mostly for education, with medical aand venture also being top categories. As people get older, they are less likely to want a loan, but the education intent goes down and personal, home improvement and venture loan intents increase."
   ]
  },
  {
   "cell_type": "code",
   "execution_count": 4,
   "metadata": {},
   "outputs": [
    {
     "data": {
      "text/plain": [
       "<Axes: xlabel='person_income', ylabel='loan_int_rate'>"
      ]
     },
     "execution_count": 4,
     "metadata": {},
     "output_type": "execute_result"
    },
    {
     "data": {
      "image/png": "[encoded data removed]",
      "text/plain": [
       "<Figure size 640x480 with 1 Axes>"
      ]
     },
     "metadata": {},
     "output_type": "display_data"
    }
   ],
   "source": [
    "sns.scatterplot(data= data, x= \"person_income\", y= \"loan_int_rate\", hue = \"loan_status\")"
   ]
  },
  {
   "cell_type": "markdown",
   "metadata": {},
   "source": [
    "From this graph, we can see that the people who get approved for loans often have the highest interest rates, which makes sense from the bank's perspective. A higher interest rate means the bank is making more money, which offsets the risk they take on by offering the loan. On the other hand, It's suprising that people with higher incomes are often not approved for loans. I would expect people with higher income to be more likely to be approved for a loan, given that they have more proof they can pay. A variable that might effect this outcome is the amount they are asking for. It's possible that people with high incomes are asking for large loans that the bank doesn't feel comfortable taking on. "
   ]
  },
  {
   "cell_type": "markdown",
   "metadata": {},
   "source": [
    "## Model"
   ]
  },
  {
   "cell_type": "code",
   "execution_count": 5,
   "metadata": {},
   "outputs": [
    {
     "name": "stderr",
     "output_type": "stream",
     "text": [
      "/var/folders/gx/d6zl9l4908q7p_vk4j3x06x00000gn/T/ipykernel_22444/3002538358.py:10: SettingWithCopyWarning: \n",
      "A value is trying to be set on a copy of a slice from a DataFrame.\n",
      "Try using .loc[row_indexer,col_indexer] = value instead\n",
      "\n",
      "See the caveats in the documentation: https://pandas.pydata.org/pandas-docs/stable/user_guide/indexing.html#returning-a-view-versus-a-copy\n",
      "  df_train[\"loan_intent\"]= le.fit_transform(df_train[\"loan_intent\"])\n"
     ]
    }
   ],
   "source": [
    "#data cleaning\n",
    "from sklearn.linear_model import LogisticRegression\n",
    "from sklearn.preprocessing import StandardScaler\n",
    "from sklearn.preprocessing import LabelEncoder\n",
    "\n",
    "#cleaning data\n",
    "df_train= df_train.dropna()\n",
    "# econding possible outcome variable\n",
    "le = LabelEncoder()\n",
    "df_train[\"loan_intent\"]= le.fit_transform(df_train[\"loan_intent\"]) \n",
    "\n",
    "\n",
    "df_train.head()\n",
    "\n",
    "#df_train[\"income_for_age\"]= df_train[\"person_emp_length\"]+ df_train[\"cb_person_cred_hist_length\"]\n",
    "cols= [\"loan_amnt\", \"loan_percent_income\", \"loan_int_rate\"]\n",
    "X_train = df_train[cols]\n",
    "X_train = StandardScaler().fit_transform(X_train)  # Standardize features\n",
    "y_train = df_train[\"loan_status\"]"
   ]
  },
  {
   "cell_type": "markdown",
   "metadata": {},
   "source": [
    "I clean the data by dropping NA values and then create a train dataset with target columns, standardize it and then come up with y values."
   ]
  },
  {
   "cell_type": "code",
   "execution_count": 6,
   "metadata": {},
   "outputs": [
    {
     "name": "stdout",
     "output_type": "stream",
     "text": [
      "[-0.59390244  1.26796607  1.03233148]\n"
     ]
    }
   ],
   "source": [
    "#modeling\n",
    "model = LogisticRegression()\n",
    "model.fit(X_train, y_train)\n",
    "\n",
    "weights= model.coef_.flatten()\n",
    "print(weights)\n"
   ]
  },
  {
   "cell_type": "markdown",
   "metadata": {},
   "source": [
    "I chose to use logistic regression for this model because the goal is to predict the probability of loan default, which is a binary classification problem. Logistic regression is well-suited for this task as it provides interpretable probability outputs, allowing for clear threshold-based decision-making."
   ]
  },
  {
   "cell_type": "code",
   "execution_count": 7,
   "metadata": {},
   "outputs": [
    {
     "name": "stdout",
     "output_type": "stream",
     "text": [
      "8.291911080319613\n",
      "-4.45964619067289\n",
      "3.300377486570684e-16\n"
     ]
    },
    {
     "name": "stderr",
     "output_type": "stream",
     "text": [
      "/var/folders/gx/d6zl9l4908q7p_vk4j3x06x00000gn/T/ipykernel_22444/4082893322.py:7: SettingWithCopyWarning: \n",
      "A value is trying to be set on a copy of a slice from a DataFrame.\n",
      "Try using .loc[row_indexer,col_indexer] = value instead\n",
      "\n",
      "See the caveats in the documentation: https://pandas.pydata.org/pandas-docs/stable/user_guide/indexing.html#returning-a-view-versus-a-copy\n",
      "  df_train[\"score\"]= linear_score(X_train, weights)\n"
     ]
    }
   ],
   "source": [
    "def linear_score(X, w):\n",
    "  \"\"\"\n",
    "  Calculates the linear score between features and weights\n",
    "  \"\"\"\n",
    "  return X@w # or np.dot(X, w)\n",
    "\n",
    "df_train[\"score\"]= linear_score(X_train, weights)\n",
    "\n",
    "df_train[\"score\"].head()\n",
    "print(df_train[\"score\"].max())\n",
    "print(df_train[\"score\"].min())\n",
    "print(df_train[\"score\"].mean())\n"
   ]
  },
  {
   "cell_type": "markdown",
   "metadata": {},
   "source": [
    "Here I calculate the linear score between the features (in the columns of X_train) and the weights calculated from the model."
   ]
  },
  {
   "cell_type": "markdown",
   "metadata": {},
   "source": [
    "## Find a Threshold"
   ]
  },
  {
   "cell_type": "code",
   "execution_count": 8,
   "metadata": {},
   "outputs": [
    {
     "name": "stdout",
     "output_type": "stream",
     "text": [
      "168930.56163829993\n",
      "1823.758481958005\n",
      "0.050000000000000044\n"
     ]
    },
    {
     "data": {
      "text/html": [
       "<div>\n",
       "<style scoped>\n",
       "    .dataframe tbody tr th:only-of-type {\n",
       "        vertical-align: middle;\n",
       "    }\n",
       "\n",
       "    .dataframe tbody tr th {\n",
       "        vertical-align: top;\n",
       "    }\n",
       "\n",
       "    .dataframe thead th {\n",
       "        text-align: right;\n",
       "    }\n",
       "</style>\n",
       "<table border=\"1\" class=\"dataframe\">\n",
       "  <thead>\n",
       "    <tr style=\"text-align: right;\">\n",
       "      <th></th>\n",
       "      <th>person_age</th>\n",
       "      <th>person_income</th>\n",
       "      <th>person_home_ownership</th>\n",
       "      <th>person_emp_length</th>\n",
       "      <th>loan_intent</th>\n",
       "      <th>loan_grade</th>\n",
       "      <th>loan_amnt</th>\n",
       "      <th>loan_int_rate</th>\n",
       "      <th>loan_status</th>\n",
       "      <th>loan_percent_income</th>\n",
       "      <th>cb_person_default_on_file</th>\n",
       "      <th>cb_person_cred_hist_length</th>\n",
       "      <th>score</th>\n",
       "      <th>y_pred</th>\n",
       "      <th>bank_profit</th>\n",
       "    </tr>\n",
       "  </thead>\n",
       "  <tbody>\n",
       "    <tr>\n",
       "      <th>1</th>\n",
       "      <td>27</td>\n",
       "      <td>98000</td>\n",
       "      <td>RENT</td>\n",
       "      <td>3.0</td>\n",
       "      <td>1</td>\n",
       "      <td>C</td>\n",
       "      <td>11750</td>\n",
       "      <td>0.1347</td>\n",
       "      <td>0</td>\n",
       "      <td>0.12</td>\n",
       "      <td>Y</td>\n",
       "      <td>6</td>\n",
       "      <td>-0.008090</td>\n",
       "      <td>0</td>\n",
       "      <td>4613.567568</td>\n",
       "    </tr>\n",
       "    <tr>\n",
       "      <th>2</th>\n",
       "      <td>22</td>\n",
       "      <td>36996</td>\n",
       "      <td>RENT</td>\n",
       "      <td>5.0</td>\n",
       "      <td>1</td>\n",
       "      <td>A</td>\n",
       "      <td>10000</td>\n",
       "      <td>0.0751</td>\n",
       "      <td>0</td>\n",
       "      <td>0.27</td>\n",
       "      <td>N</td>\n",
       "      <td>4</td>\n",
       "      <td>0.049639</td>\n",
       "      <td>0</td>\n",
       "      <td>2044.334031</td>\n",
       "    </tr>\n",
       "    <tr>\n",
       "      <th>3</th>\n",
       "      <td>24</td>\n",
       "      <td>26000</td>\n",
       "      <td>RENT</td>\n",
       "      <td>2.0</td>\n",
       "      <td>3</td>\n",
       "      <td>C</td>\n",
       "      <td>1325</td>\n",
       "      <td>0.1287</td>\n",
       "      <td>1</td>\n",
       "      <td>0.05</td>\n",
       "      <td>N</td>\n",
       "      <td>4</td>\n",
       "      <td>-0.055660</td>\n",
       "      <td>0</td>\n",
       "      <td>-795.445199</td>\n",
       "    </tr>\n",
       "    <tr>\n",
       "      <th>4</th>\n",
       "      <td>29</td>\n",
       "      <td>53004</td>\n",
       "      <td>MORTGAGE</td>\n",
       "      <td>2.0</td>\n",
       "      <td>2</td>\n",
       "      <td>A</td>\n",
       "      <td>15000</td>\n",
       "      <td>0.0963</td>\n",
       "      <td>0</td>\n",
       "      <td>0.28</td>\n",
       "      <td>N</td>\n",
       "      <td>10</td>\n",
       "      <td>0.375078</td>\n",
       "      <td>1</td>\n",
       "      <td>NaN</td>\n",
       "    </tr>\n",
       "    <tr>\n",
       "      <th>6</th>\n",
       "      <td>21</td>\n",
       "      <td>21700</td>\n",
       "      <td>RENT</td>\n",
       "      <td>2.0</td>\n",
       "      <td>2</td>\n",
       "      <td>D</td>\n",
       "      <td>5500</td>\n",
       "      <td>0.1491</td>\n",
       "      <td>1</td>\n",
       "      <td>0.25</td>\n",
       "      <td>N</td>\n",
       "      <td>2</td>\n",
       "      <td>2.595504</td>\n",
       "      <td>1</td>\n",
       "      <td>NaN</td>\n",
       "    </tr>\n",
       "  </tbody>\n",
       "</table>\n",
       "</div>"
      ],
      "text/plain": [
       "   person_age  person_income person_home_ownership  person_emp_length  \\\n",
       "1          27          98000                  RENT                3.0   \n",
       "2          22          36996                  RENT                5.0   \n",
       "3          24          26000                  RENT                2.0   \n",
       "4          29          53004              MORTGAGE                2.0   \n",
       "6          21          21700                  RENT                2.0   \n",
       "\n",
       "   loan_intent loan_grade  loan_amnt  loan_int_rate  loan_status  \\\n",
       "1            1          C      11750         0.1347            0   \n",
       "2            1          A      10000         0.0751            0   \n",
       "3            3          C       1325         0.1287            1   \n",
       "4            2          A      15000         0.0963            0   \n",
       "6            2          D       5500         0.1491            1   \n",
       "\n",
       "   loan_percent_income cb_person_default_on_file  cb_person_cred_hist_length  \\\n",
       "1                 0.12                         Y                           6   \n",
       "2                 0.27                         N                           4   \n",
       "3                 0.05                         N                           4   \n",
       "4                 0.28                         N                          10   \n",
       "6                 0.25                         N                           2   \n",
       "\n",
       "      score  y_pred  bank_profit  \n",
       "1 -0.008090       0  4613.567568  \n",
       "2  0.049639       0  2044.334031  \n",
       "3 -0.055660       0  -795.445199  \n",
       "4  0.375078       1          NaN  \n",
       "6  2.595504       1          NaN  "
      ]
     },
     "execution_count": 8,
     "metadata": {},
     "output_type": "execute_result"
    }
   ],
   "source": [
    "import warnings\n",
    "warnings.simplefilter(\"ignore\")\n",
    "                      \n",
    "import numpy as np\n",
    "def profit(data, t):\n",
    "    \"\"\"\n",
    "    Calculates the profit the bank makes on a given loan\n",
    "\n",
    "    Args: \n",
    "    data: the dataframe containting the loan requesters\n",
    "    t: the threshold for accepting a loan\n",
    "\n",
    "    returns: the updated dataframe with a profit column\n",
    "    \"\"\"\n",
    "\n",
    "    #create binary yes/no values from scores based on t\n",
    "    y_pred = (data[\"score\"] > t).astype(int)\n",
    "    data[\"y_pred\"]= y_pred\n",
    "    data[\"bank_profit\"] = 0.0\n",
    "    #print(y_pred, y_scores)\n",
    "    i00 = (data[\"loan_status\"] == 0)& (y_pred == 0)\n",
    "    i01 = (data[\"loan_status\"] == 0) & (y_pred == 1)\n",
    "    i10 = (data[\"loan_status\"] == 1) & (y_pred == 0)\n",
    "    i11 = (data[\"loan_status\"] == 1) &(y_pred == 1)\n",
    "    #sum up the bank profit based on the predicted values of weather or not someone will default\n",
    "    data[\"bank_profit\"][i00] = data[\"loan_amnt\"][i00] * (1 + 0.25 * data[\"loan_int_rate\"][i00]) ** 10 - data[\"loan_amnt\"][i00] # best case\n",
    "    data[\"bank_profit\"][i01] = np.nan\n",
    "    data[\"bank_profit\"][i10] = data[\"loan_amnt\"][i10] * (1 + 0.25 * data[\"loan_int_rate\"][i10]) ** 3 -1.7 * data[\"loan_amnt\"][i10] # worst case\n",
    "    data[\"bank_profit\"][i11] = np.nan\n",
    "\n",
    "    return data\n",
    "\n",
    "\n",
    "thresholds = np.linspace(-.5, 2, 101)  # Test values between -2 and 2\n",
    "bank_profits = [profit(df_train, t)[\"bank_profit\"].mean() for t in thresholds] # calculates the average profit per borrower for each t\n",
    "print(sum(bank_profits))\n",
    "\n",
    "\n",
    "t_star = thresholds[np.argmax(bank_profits)] #finds the argmax of the bank profits in the bank profit list\n",
    "\n",
    "print(t_star)\n",
    "\n",
    "profit(df_train, t_star).head()\n",
    "\n"
   ]
  },
  {
   "cell_type": "markdown",
   "metadata": {},
   "source": [
    "Here I generate a profit function to calculate the best value that the bank should accept loans at as a threshold value. I do this by creating index markers (i00, i01, i10 and i11) to denote a persons loan status (default or not) and their y_pred, weather or not the bank gives them a loan. I then calculate the profitability using these markers and the equations in class. If a person never recieved a loan, the bank never recieves anything, hence the NaN. I chose to use NaN instead of 0 because it will be easier to calculate the average profit per borrower only including the people who borrowed money. \n",
    "\n",
    "I then run the profit function for a range of values using np.linspace to find the optimal value of t where average profit per borrower is the highest."
   ]
  },
  {
   "cell_type": "code",
   "execution_count": 9,
   "metadata": {},
   "outputs": [
    {
     "data": {
      "image/png": "[encoded data removed]",
      "text/plain": [
       "<Figure size 640x480 with 1 Axes>"
      ]
     },
     "metadata": {},
     "output_type": "display_data"
    }
   ],
   "source": [
    "#plotting the graph\n",
    "\n",
    "thresholds = np.linspace(-.5, 2, 101)\n",
    "profits = [profit(df_train, t)[\"bank_profit\"].mean() for t in thresholds]\n",
    "\n",
    "# Find the best threshold\n",
    "best_threshold = thresholds[np.argmax(profits)]\n",
    "best_profit = max(profits)\n",
    "\n",
    "# Plot using Seaborn\n",
    "sns.lineplot(x=thresholds, y=profits)\n",
    "\n",
    "# Add vertical line for the best threshold\n",
    "plt.axvline(best_threshold, linestyle=\"--\", color=\"gray\")\n",
    "\n",
    "# Labels and title\n",
    "plt.xlabel(\"Threshold\")\n",
    "plt.ylabel(\"Expected Profit per Borrower\")\n",
    "plt.title(f\"Max Profit: {best_profit:.3f} at Threshold {best_threshold:.3f}\")\n",
    "\n",
    "plt.show()\n"
   ]
  },
  {
   "cell_type": "markdown",
   "metadata": {},
   "source": [
    "Here we see that the optimal value for t= 0.05, with  max profit of $1820 per borrower. We can see a steady climb up to the threshold with increasing values of t and then a sharper droppoff as the bank takes on large sums of risk. An addition to the model would be evaluating the opportunity cost of rejecting a loan with someone who would pay it back to better reflect the downside to being risk-adverse"
   ]
  },
  {
   "cell_type": "markdown",
   "metadata": {},
   "source": [
    "## Evaluate from the bank's perspective"
   ]
  },
  {
   "cell_type": "code",
   "execution_count": 10,
   "metadata": {},
   "outputs": [],
   "source": [
    "# Setup for test/clean the testing data\n",
    "url = \"https://raw.githubusercontent.com/PhilChodrow/ml-notes/main/data/credit-risk/test.csv\"\n",
    "df_test = pd.read_csv(url)\n",
    "df_test[\"loan_int_rate\"]= (df_test[\"loan_int_rate\"])/100\n",
    "df_test= df_test.dropna()\n"
   ]
  },
  {
   "cell_type": "code",
   "execution_count": 11,
   "metadata": {},
   "outputs": [
    {
     "name": "stdout",
     "output_type": "stream",
     "text": [
      "0.050000000000000044\n",
      "1743\n"
     ]
    },
    {
     "data": {
      "text/plain": [
       "0    0.486485\n",
       "1    0.999932\n",
       "2   -0.185437\n",
       "3    0.520230\n",
       "4    0.731585\n",
       "Name: score, dtype: float64"
      ]
     },
     "execution_count": 11,
     "metadata": {},
     "output_type": "execute_result"
    }
   ],
   "source": [
    "X_test= df_test[cols]\n",
    "X_test = StandardScaler().fit_transform(X_test)\n",
    "y_test= df_test[\"loan_status\"]\n",
    "df_test[\"score\"]= linear_score(X_test, weights)\n",
    "print(t_star)\n",
    "print(profit(df_test, t_star)[\"bank_profit\"].mean().astype(int))\n",
    "df_test[\"score\"].head()"
   ]
  },
  {
   "cell_type": "markdown",
   "metadata": {},
   "source": [
    "I create X and Y test here and run my profit function on it to see what the testing data looks like."
   ]
  },
  {
   "cell_type": "markdown",
   "metadata": {},
   "source": [
    "I'm getting a similar average bank profit with the testing data, which makes sense, but at $1615, it is 200 dollars lower than that of the training data. Maybe the characteristics in the training data I used aren't as apparent in the testing data, and maybe different patterns or stronger. It could also be that the testing data has less opporunity for bank income in the first place."
   ]
  },
  {
   "cell_type": "markdown",
   "metadata": {},
   "source": [
    "## Evaluate from the borrower's perspective"
   ]
  },
  {
   "cell_type": "code",
   "execution_count": 12,
   "metadata": {},
   "outputs": [
    {
     "data": {
      "text/html": [
       "<div>\n",
       "<style scoped>\n",
       "    .dataframe tbody tr th:only-of-type {\n",
       "        vertical-align: middle;\n",
       "    }\n",
       "\n",
       "    .dataframe tbody tr th {\n",
       "        vertical-align: top;\n",
       "    }\n",
       "\n",
       "    .dataframe thead th {\n",
       "        text-align: right;\n",
       "    }\n",
       "</style>\n",
       "<table border=\"1\" class=\"dataframe\">\n",
       "  <thead>\n",
       "    <tr style=\"text-align: right;\">\n",
       "      <th></th>\n",
       "      <th>age_group</th>\n",
       "      <th>y_pred</th>\n",
       "      <th>loan_status</th>\n",
       "    </tr>\n",
       "  </thead>\n",
       "  <tbody>\n",
       "    <tr>\n",
       "      <th>0</th>\n",
       "      <td>18-25</td>\n",
       "      <td>0.490789</td>\n",
       "      <td>0.231024</td>\n",
       "    </tr>\n",
       "    <tr>\n",
       "      <th>1</th>\n",
       "      <td>26-35</td>\n",
       "      <td>0.445140</td>\n",
       "      <td>0.216938</td>\n",
       "    </tr>\n",
       "    <tr>\n",
       "      <th>2</th>\n",
       "      <td>36-50</td>\n",
       "      <td>0.440767</td>\n",
       "      <td>0.202091</td>\n",
       "    </tr>\n",
       "    <tr>\n",
       "      <th>3</th>\n",
       "      <td>51-65</td>\n",
       "      <td>0.487805</td>\n",
       "      <td>0.317073</td>\n",
       "    </tr>\n",
       "    <tr>\n",
       "      <th>4</th>\n",
       "      <td>65+</td>\n",
       "      <td>0.600000</td>\n",
       "      <td>0.200000</td>\n",
       "    </tr>\n",
       "  </tbody>\n",
       "</table>\n",
       "</div>"
      ],
      "text/plain": [
       "  age_group    y_pred  loan_status\n",
       "0     18-25  0.490789     0.231024\n",
       "1     26-35  0.445140     0.216938\n",
       "2     36-50  0.440767     0.202091\n",
       "3     51-65  0.487805     0.317073\n",
       "4       65+  0.600000     0.200000"
      ]
     },
     "execution_count": 12,
     "metadata": {},
     "output_type": "execute_result"
    }
   ],
   "source": [
    "age_groups = [18, 25, 35, 50, 65, 100]\n",
    "df_test[\"age_group\"] = pd.cut(df_test[\"person_age\"], bins=age_groups, labels=[\"18-25\", \"26-35\", \"36-50\", \"51-65\", \"65+\"])\n",
    "df_test.groupby(\"age_group\")[[\"y_pred\", \"loan_status\"]].mean().reset_index()"
   ]
  },
  {
   "cell_type": "markdown",
   "metadata": {},
   "source": [
    "Younger people are less likley to recieve loans, and they are also the second most likely group to default on their loans. Surpisingly, people aged 51-65 are more likely to recieve loans, but also the most likely to default on them. Given their age, I would assume that they get the benefit of the doubt and are given loans more frequently."
   ]
  },
  {
   "cell_type": "code",
   "execution_count": 13,
   "metadata": {},
   "outputs": [
    {
     "data": {
      "text/html": [
       "<div>\n",
       "<style scoped>\n",
       "    .dataframe tbody tr th:only-of-type {\n",
       "        vertical-align: middle;\n",
       "    }\n",
       "\n",
       "    .dataframe tbody tr th {\n",
       "        vertical-align: top;\n",
       "    }\n",
       "\n",
       "    .dataframe thead th {\n",
       "        text-align: right;\n",
       "    }\n",
       "</style>\n",
       "<table border=\"1\" class=\"dataframe\">\n",
       "  <thead>\n",
       "    <tr style=\"text-align: right;\">\n",
       "      <th></th>\n",
       "      <th>loan_intent</th>\n",
       "      <th>y_pred</th>\n",
       "      <th>loan_status</th>\n",
       "    </tr>\n",
       "  </thead>\n",
       "  <tbody>\n",
       "    <tr>\n",
       "      <th>0</th>\n",
       "      <td>DEBTCONSOLIDATION</td>\n",
       "      <td>0.461283</td>\n",
       "      <td>0.287611</td>\n",
       "    </tr>\n",
       "    <tr>\n",
       "      <th>1</th>\n",
       "      <td>EDUCATION</td>\n",
       "      <td>0.476190</td>\n",
       "      <td>0.167517</td>\n",
       "    </tr>\n",
       "    <tr>\n",
       "      <th>2</th>\n",
       "      <td>HOMEIMPROVEMENT</td>\n",
       "      <td>0.435065</td>\n",
       "      <td>0.250000</td>\n",
       "    </tr>\n",
       "    <tr>\n",
       "      <th>3</th>\n",
       "      <td>MEDICAL</td>\n",
       "      <td>0.486486</td>\n",
       "      <td>0.284250</td>\n",
       "    </tr>\n",
       "    <tr>\n",
       "      <th>4</th>\n",
       "      <td>PERSONAL</td>\n",
       "      <td>0.470942</td>\n",
       "      <td>0.220441</td>\n",
       "    </tr>\n",
       "    <tr>\n",
       "      <th>5</th>\n",
       "      <td>VENTURE</td>\n",
       "      <td>0.454357</td>\n",
       "      <td>0.146266</td>\n",
       "    </tr>\n",
       "  </tbody>\n",
       "</table>\n",
       "</div>"
      ],
      "text/plain": [
       "         loan_intent    y_pred  loan_status\n",
       "0  DEBTCONSOLIDATION  0.461283     0.287611\n",
       "1          EDUCATION  0.476190     0.167517\n",
       "2    HOMEIMPROVEMENT  0.435065     0.250000\n",
       "3            MEDICAL  0.486486     0.284250\n",
       "4           PERSONAL  0.470942     0.220441\n",
       "5            VENTURE  0.454357     0.146266"
      ]
     },
     "execution_count": 13,
     "metadata": {},
     "output_type": "execute_result"
    }
   ],
   "source": [
    "df_test.groupby(\"loan_intent\")[[\"y_pred\", \"loan_status\"]].mean().reset_index()"
   ]
  },
  {
   "cell_type": "markdown",
   "metadata": {},
   "source": [
    "Medical loans aren't super likely to given, probably because they have a higher default rate of 28%. Venture and education are most likely to be given, and both have low default rates. This is probably because both loans are seen as an investment into future great economic opportunity."
   ]
  },
  {
   "cell_type": "code",
   "execution_count": 14,
   "metadata": {},
   "outputs": [
    {
     "data": {
      "text/html": [
       "<div>\n",
       "<style scoped>\n",
       "    .dataframe tbody tr th:only-of-type {\n",
       "        vertical-align: middle;\n",
       "    }\n",
       "\n",
       "    .dataframe tbody tr th {\n",
       "        vertical-align: top;\n",
       "    }\n",
       "\n",
       "    .dataframe thead th {\n",
       "        text-align: right;\n",
       "    }\n",
       "</style>\n",
       "<table border=\"1\" class=\"dataframe\">\n",
       "  <thead>\n",
       "    <tr style=\"text-align: right;\">\n",
       "      <th></th>\n",
       "      <th>income_group</th>\n",
       "      <th>y_pred</th>\n",
       "      <th>loan_status</th>\n",
       "    </tr>\n",
       "  </thead>\n",
       "  <tbody>\n",
       "    <tr>\n",
       "      <th>0</th>\n",
       "      <td>&lt;30K</td>\n",
       "      <td>0.771242</td>\n",
       "      <td>0.460131</td>\n",
       "    </tr>\n",
       "    <tr>\n",
       "      <th>1</th>\n",
       "      <td>30K-60K</td>\n",
       "      <td>0.557899</td>\n",
       "      <td>0.242340</td>\n",
       "    </tr>\n",
       "    <tr>\n",
       "      <th>2</th>\n",
       "      <td>60K-100K</td>\n",
       "      <td>0.342538</td>\n",
       "      <td>0.136898</td>\n",
       "    </tr>\n",
       "    <tr>\n",
       "      <th>3</th>\n",
       "      <td>100K+</td>\n",
       "      <td>0.133156</td>\n",
       "      <td>0.110519</td>\n",
       "    </tr>\n",
       "  </tbody>\n",
       "</table>\n",
       "</div>"
      ],
      "text/plain": [
       "  income_group    y_pred  loan_status\n",
       "0         <30K  0.771242     0.460131\n",
       "1      30K-60K  0.557899     0.242340\n",
       "2     60K-100K  0.342538     0.136898\n",
       "3        100K+  0.133156     0.110519"
      ]
     },
     "execution_count": 14,
     "metadata": {},
     "output_type": "execute_result"
    }
   ],
   "source": [
    "income_bins = [0, 30000, 60000, 100000, np.inf]\n",
    "income_labels = [\"<30K\", \"30K-60K\", \"60K-100K\", \"100K+\"]\n",
    "df_test[\"income_group\"] = pd.cut(df_test[\"person_income\"], bins=income_bins, labels=income_labels)\n",
    "\n",
    "df_test.groupby(\"income_group\")[[\"y_pred\", \"loan_status\"]].mean().reset_index()"
   ]
  },
  {
   "cell_type": "markdown",
   "metadata": {},
   "source": [
    "As income increases, people are more likely to be approved for loans and less likely to default. This makes sense, as people with greater income have more stability, and are more likely to have the capital to pay off a loan, even if their purpose in getting it didn't pay off."
   ]
  },
  {
   "cell_type": "markdown",
   "metadata": {},
   "source": [
    "## Discussion"
   ]
  },
  {
   "cell_type": "markdown",
   "metadata": {},
   "source": [
    "Fairness means that people are given just treatment without discrimination or bias. Therefore, this blog post analyzes questions of fairness by looking at what makes someone elligible for a loan. One of the results was that people requesting medical loans are more likely to default, thereby reducing their chances of recieving the loan. I think that this is unfair, but not from the bank's perspecitive. As a player in a capitalist society, the bank's responsibility is to increase profit for their shareholders. Giving out loans with higher risk of default shouldn't be their responsibility, as it wouldn't be fair to let the bank take the responsibility for high costs of medical care. I think that the burden of responsibility lies with the government. Healthcare shouldn't be a for-profit industry, as profitability and health goals often do not align. Instead, what would be fair is if the government offered more healthcare benefits so people who needed medical procedures wouldn't have to take out a loan. "
   ]
  }
 ],
 "metadata": {
  "kernelspec": {
   "display_name": "ml-0451",
   "language": "python",
   "name": "python3"
  },
  "language_info": {
   "codemirror_mode": {
    "name": "ipython",
    "version": 3
   },
   "file_extension": ".py",
   "mimetype": "text/x-python",
   "name": "python",
   "nbconvert_exporter": "python",
   "pygments_lexer": "ipython3",
   "version": "3.9.21"
  }
 },
 "nbformat": 4,
 "nbformat_minor": 2
}
